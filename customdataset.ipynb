{
 "cells": [
  {
   "cell_type": "code",
   "execution_count": 2,
   "id": "0f9dbeb3",
   "metadata": {},
   "outputs": [
    {
     "data": {
      "application/vnd.jupyter.widget-view+json": {
       "model_id": "65f257368fd34c71aa08f43dc8b4e5a1",
       "version_major": 2,
       "version_minor": 0
      },
      "text/plain": [
       "dataset.csv:   0%|          | 0.00/185k [00:00<?, ?B/s]"
      ]
     },
     "metadata": {},
     "output_type": "display_data"
    },
    {
     "data": {
      "application/vnd.jupyter.widget-view+json": {
       "model_id": "36946b18c0a14609840f57b20dfc71ee",
       "version_major": 2,
       "version_minor": 0
      },
      "text/plain": [
       "Generating train split:   0%|          | 0/199 [00:00<?, ? examples/s]"
      ]
     },
     "metadata": {},
     "output_type": "display_data"
    }
   ],
   "source": [
    "from datasets import load_dataset\n",
    "\n",
    "# Login using e.g. `huggingface-cli login` to access this dataset\n",
    "ds = load_dataset(\"metr-evals/daft-math\")\n"
   ]
  },
  {
   "cell_type": "code",
   "execution_count": 9,
   "id": "9c1ac77a",
   "metadata": {},
   "outputs": [
    {
     "name": "stdout",
     "output_type": "stream",
     "text": [
      "['Original Question', 'Integer Answer Variant Question', 'Estimated Difficulty', 'Original Answer', 'Integer Variant Answer', 'Source']\n"
     ]
    }
   ],
   "source": [
    "columns= ds.column_names[\"train\"]\n",
    "print(columns)"
   ]
  },
  {
   "cell_type": "code",
   "execution_count": 14,
   "id": "ed8c088b",
   "metadata": {},
   "outputs": [
    {
     "name": "stdout",
     "output_type": "stream",
     "text": [
      "Wrote converted_daft_math/train.jsonl\n"
     ]
    }
   ],
   "source": [
    "import json,re,os,unicodedata\n",
    "field_map={\n",
    "    \"problem\": \"Integer Answer Variant Question\",\n",
    "    \"gt_answer\": \"Integer Variant Answer\",\n",
    "    \"level\": \"\",\n",
    "    \"type\": \"\"\n",
    "}\n",
    "\n",
    "def normalize_answer(s: str):\n",
    "    s = unicodedata.normalize(\"NFKC\", s).strip()\n",
    "    # strip LaTeX \\boxed{} if present\n",
    "    boxed = re.findall(r\"\\\\boxed\\\\{([^}]*)\\\\}\", s)\n",
    "    if boxed:\n",
    "        return boxed[-1].strip()\n",
    "    return s\n",
    "\n",
    "def convert(save_dir=\"converted_daft_math\"):\n",
    "    ds = load_dataset(\"metr-evals/daft-math\")\n",
    "    os.makedirs(save_dir, exist_ok=True)\n",
    "    for split, split_ds in ds.items():\n",
    "        out_path = os.path.join(save_dir, f\"{split}.jsonl\")\n",
    "        with open(out_path, \"w\", encoding=\"utf-8\") as f:\n",
    "            for i, row in enumerate(split_ds):\n",
    "                item = {\n",
    "                    \"problem_idx\": f\"{split}_{i}\",\n",
    "                    \"problem\": row[field_map[\"problem\"]],\n",
    "                    \"gt_answer\": normalize_answer(str(row[field_map[\"gt_answer\"]])),\n",
    "                    \"level\": row.get(\"level\", \"\"),   # leave blank if absent\n",
    "                    \"type\": row.get(\"topic\", row.get(\"type\", \"\")),\n",
    "                    \"source\": \"daft-math\",\n",
    "                    \"split\": split\n",
    "                }\n",
    "                if field_map.get(\"solution\") in row and row[field_map[\"solution\"]]:\n",
    "                    item[\"solution\"] = row[field_map[\"solution\"]]\n",
    "                item[\"correct_answers\"] = [item[\"gt_answer\"]]\n",
    "                f.write(json.dumps(item, ensure_ascii=False) + \"\\n\")\n",
    "        print(\"Wrote\", out_path)\n",
    "\n",
    "if __name__ == \"__main__\":\n",
    "    convert()\n"
   ]
  },
  {
   "cell_type": "code",
   "execution_count": null,
   "id": "246aacd2",
   "metadata": {},
   "outputs": [],
   "source": []
  }
 ],
 "metadata": {
  "kernelspec": {
   "display_name": "env (3.13.5)",
   "language": "python",
   "name": "python3"
  },
  "language_info": {
   "codemirror_mode": {
    "name": "ipython",
    "version": 3
   },
   "file_extension": ".py",
   "mimetype": "text/x-python",
   "name": "python",
   "nbconvert_exporter": "python",
   "pygments_lexer": "ipython3",
   "version": "3.13.5"
  }
 },
 "nbformat": 4,
 "nbformat_minor": 5
}
